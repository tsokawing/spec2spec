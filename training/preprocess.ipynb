{
  "nbformat": 4,
  "nbformat_minor": 0,
  "metadata": {
    "colab": {
      "name": "preprocess.ipynb",
      "provenance": [],
      "collapsed_sections": []
    },
    "kernelspec": {
      "name": "python3",
      "display_name": "Python 3"
    },
    "language_info": {
      "name": "python"
    }
  },
  "cells": [
    {
      "cell_type": "code",
      "source": [
        "from music21 import converter, instrument\n",
        "from pathlib import Path"
      ],
      "metadata": {
        "id": "q9XV96yK_T7d"
      },
      "execution_count": null,
      "outputs": []
    },
    {
      "cell_type": "code",
      "source": [
        "from google.colab import drive\n",
        "drive.mount('/content/drive')"
      ],
      "metadata": {
        "colab": {
          "base_uri": "https://localhost:8080/"
        },
        "id": "am6w4UheaR2u",
        "outputId": "2e59e795-f671-4987-ccc7-aecad36e6c1b"
      },
      "execution_count": null,
      "outputs": [
        {
          "output_type": "stream",
          "name": "stdout",
          "text": [
            "Drive already mounted at /content/drive; to attempt to forcibly remount, call drive.mount(\"/content/drive\", force_remount=True).\n"
          ]
        }
      ]
    },
    {
      "cell_type": "code",
      "execution_count": null,
      "metadata": {
        "id": "aj4NPQS79zEA"
      },
      "outputs": [],
      "source": [
        "# Both training and validation piano set are input.\n",
        "PIANO_TRAIN_DIR = '/content/drive/MyDrive/cuhk/fyp/jsb/train/'\n",
        "PIANO_VALID_DIR = '/content/drive/MyDrive/cuhk/fyp/jsb/valid/'\n",
        "# Path to the converted instrument.\n",
        "FLUTE_DIR = '/content/drive/MyDrive/cuhk/fyp/jsb/eguitar/'"
      ]
    },
    {
      "cell_type": "code",
      "source": [
        "def piano_to_flute(in_dir, out_dir):\n",
        "  s = converter.parse(in_dir)\n",
        "  print('Converting...', in_dir)\n",
        "\n",
        "  for el in s.recurse():\n",
        "    if 'Instrument' in el.classes:\n",
        "      # Modify the next line to change instrument.\n",
        "      el.activeSite.replace(el, instrument.Flute())\n",
        "\n",
        "  s.write('midi', out_dir)"
      ],
      "metadata": {
        "id": "irtY0Den-1mn"
      },
      "execution_count": null,
      "outputs": []
    },
    {
      "cell_type": "code",
      "source": [
        "def convert_from(dir):\n",
        "  for track in Path(dir).glob('*.mid'):\n",
        "    piano_to_flute(dir + track.name, FLUTE_DIR + track.name)"
      ],
      "metadata": {
        "id": "-tLmHSJB_OcD"
      },
      "execution_count": null,
      "outputs": []
    },
    {
      "cell_type": "code",
      "source": [
        "convert_from(PIANO_TRAIN_DIR)"
      ],
      "metadata": {
        "id": "iQM3uPgaDaHa"
      },
      "execution_count": null,
      "outputs": []
    },
    {
      "cell_type": "code",
      "source": [
        "convert_from(PIANO_VALID_DIR)"
      ],
      "metadata": {
        "id": "vIFh2gaNFNDZ"
      },
      "execution_count": null,
      "outputs": []
    },
    {
      "cell_type": "markdown",
      "source": [
        "# Convert MIDI to WAV\n",
        "\n",
        "We will use a tool called fluidsynth with a soundfont from MuseScore."
      ],
      "metadata": {
        "id": "Zh9_uMEiLKVA"
      }
    },
    {
      "cell_type": "code",
      "source": [
        "! apt-get install -y fluidsynth"
      ],
      "metadata": {
        "id": "IzEXcHgeHE9e"
      },
      "execution_count": null,
      "outputs": []
    },
    {
      "cell_type": "code",
      "source": [
        "SOUND_FONT_DIR = '/content/drive/MyDrive/cuhk/fyp/jsb/MuseScore_General.sf2'\n",
        "FLUTE_WAV_DIR = '/content/drive/MyDrive/cuhk/fyp/jsb/flute_wav/'"
      ],
      "metadata": {
        "id": "MLdlLiOVK_Wy"
      },
      "execution_count": null,
      "outputs": []
    },
    {
      "cell_type": "code",
      "source": [
        "from subprocess import check_call\n",
        "\n",
        "for track in Path(FLUTE_DIR).glob('*.mid'):\n",
        "  midi_dir = FLUTE_DIR + track.name\n",
        "  wav_dir = FLUTE_WAV_DIR + track.stem + '.wav'\n",
        "  print('Converting...', track.name)\n",
        "  check_call(['fluidsynth', SOUND_FONT_DIR, '-F', wav_dir, midi_dir], shell=False)"
      ],
      "metadata": {
        "id": "wWOBow0lLaCt"
      },
      "execution_count": null,
      "outputs": []
    },
    {
      "cell_type": "code",
      "source": [
        ""
      ],
      "metadata": {
        "id": "1kitlhSfuQ_n"
      },
      "execution_count": null,
      "outputs": []
    }
  ]
}